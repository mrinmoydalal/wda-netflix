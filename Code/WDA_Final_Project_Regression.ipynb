{
 "cells": [
  {
   "cell_type": "markdown",
   "metadata": {},
   "source": [
    "# Notebook for EDA and building dataset for hypothesis test, regression"
   ]
  },
  {
   "cell_type": "code",
   "execution_count": 1,
   "metadata": {},
   "outputs": [],
   "source": [
    "import pandas as pd\n",
    "netflix_data=pd.read_csv(r'D:\\Fall\\Web data analytics\\Project ideas\\Netflix datasets\\Original Datasets\\netflix_dataset.csv')\n",
    "netflix_original=pd.read_csv(r'D:\\Fall\\Web data analytics\\Project ideas\\Netflix datasets\\Original Datasets\\All Netflix Originals.csv')"
   ]
  },
  {
   "cell_type": "code",
   "execution_count": 2,
   "metadata": {},
   "outputs": [],
   "source": [
    "# Adding the year and quarter\n",
    "netflix_data['date_added']=netflix_data['date_added'].astype('datetime64[ns]')\n",
    "netflix_data['date_added_year']=netflix_data['date_added'].dt.year\n",
    "netflix_data['Quarter']=netflix_data['date_added'].dt.quarter\n",
    "netflix_data['title']=netflix_data['title'].apply(lambda x:x.lower())"
   ]
  },
  {
   "cell_type": "code",
   "execution_count": 3,
   "metadata": {},
   "outputs": [],
   "source": [
    "# Changing column name\n",
    "#netflix_original=netflix_original.rename(columns={'Title':'title'})\n",
    "netflix_original=netflix_original.drop_duplicates(subset='Title',keep=False)\n",
    "netflix_original['Is_Original']=1\n",
    "netflix_original['Title']=netflix_original['Title'].apply(lambda x:x.lower())"
   ]
  },
  {
   "cell_type": "code",
   "execution_count": 4,
   "metadata": {},
   "outputs": [],
   "source": [
    "# combining to get orignal flag\n",
    "import numpy as np\n",
    "overall_data=pd.merge(netflix_data,netflix_original,how='left',left_on='title',right_on='Title')\n",
    "overall_data['Is_Original']=overall_data['Is_Original'].fillna(0)"
   ]
  },
  {
   "cell_type": "code",
   "execution_count": 5,
   "metadata": {},
   "outputs": [
    {
     "data": {
      "text/html": [
       "<div>\n",
       "<style scoped>\n",
       "    .dataframe tbody tr th:only-of-type {\n",
       "        vertical-align: middle;\n",
       "    }\n",
       "\n",
       "    .dataframe tbody tr th {\n",
       "        vertical-align: top;\n",
       "    }\n",
       "\n",
       "    .dataframe thead th {\n",
       "        text-align: right;\n",
       "    }\n",
       "</style>\n",
       "<table border=\"1\" class=\"dataframe\">\n",
       "  <thead>\n",
       "    <tr style=\"text-align: right;\">\n",
       "      <th></th>\n",
       "      <th>show_id</th>\n",
       "      <th>type</th>\n",
       "      <th>title</th>\n",
       "      <th>director</th>\n",
       "      <th>cast</th>\n",
       "      <th>country</th>\n",
       "      <th>date_added</th>\n",
       "      <th>release_year</th>\n",
       "      <th>rating</th>\n",
       "      <th>duration</th>\n",
       "      <th>...</th>\n",
       "      <th>URL</th>\n",
       "      <th>Title Type</th>\n",
       "      <th>IMDb Rating</th>\n",
       "      <th>Runtime (mins)</th>\n",
       "      <th>Year</th>\n",
       "      <th>Genres</th>\n",
       "      <th>Num Votes</th>\n",
       "      <th>Release Date</th>\n",
       "      <th>Directors</th>\n",
       "      <th>Is_Original</th>\n",
       "    </tr>\n",
       "  </thead>\n",
       "  <tbody>\n",
       "    <tr>\n",
       "      <th>0</th>\n",
       "      <td>s1</td>\n",
       "      <td>Movie</td>\n",
       "      <td>dick johnson is dead</td>\n",
       "      <td>Kirsten Johnson</td>\n",
       "      <td>NaN</td>\n",
       "      <td>United States</td>\n",
       "      <td>2021-09-25</td>\n",
       "      <td>2020</td>\n",
       "      <td>PG-13</td>\n",
       "      <td>90 min</td>\n",
       "      <td>...</td>\n",
       "      <td>https://www.imdb.com/title/tt11394180/</td>\n",
       "      <td>movie</td>\n",
       "      <td>7.4</td>\n",
       "      <td>89.0</td>\n",
       "      <td>2020.0</td>\n",
       "      <td>Documentary, Biography, Drama</td>\n",
       "      <td>6747.0</td>\n",
       "      <td>2020-01-25</td>\n",
       "      <td>Kirsten Johnson</td>\n",
       "      <td>1.0</td>\n",
       "    </tr>\n",
       "    <tr>\n",
       "      <th>1</th>\n",
       "      <td>s2</td>\n",
       "      <td>TV Show</td>\n",
       "      <td>blood &amp; water</td>\n",
       "      <td>NaN</td>\n",
       "      <td>Ama Qamata, Khosi Ngema, Gail Mabalane, Thaban...</td>\n",
       "      <td>South Africa</td>\n",
       "      <td>2021-09-24</td>\n",
       "      <td>2021</td>\n",
       "      <td>TV-MA</td>\n",
       "      <td>2 Seasons</td>\n",
       "      <td>...</td>\n",
       "      <td>https://www.imdb.com/title/tt9839146/</td>\n",
       "      <td>tvSeries</td>\n",
       "      <td>6.7</td>\n",
       "      <td>53.0</td>\n",
       "      <td>2020.0</td>\n",
       "      <td>Drama, Mystery</td>\n",
       "      <td>3388.0</td>\n",
       "      <td>2020-05-20</td>\n",
       "      <td>NaN</td>\n",
       "      <td>1.0</td>\n",
       "    </tr>\n",
       "    <tr>\n",
       "      <th>2</th>\n",
       "      <td>s3</td>\n",
       "      <td>TV Show</td>\n",
       "      <td>ganglands</td>\n",
       "      <td>Julien Leclercq</td>\n",
       "      <td>Sami Bouajila, Tracy Gotoas, Samuel Jouy, Nabi...</td>\n",
       "      <td>NaN</td>\n",
       "      <td>2021-09-24</td>\n",
       "      <td>2021</td>\n",
       "      <td>TV-MA</td>\n",
       "      <td>1 Season</td>\n",
       "      <td>...</td>\n",
       "      <td>NaN</td>\n",
       "      <td>NaN</td>\n",
       "      <td>NaN</td>\n",
       "      <td>NaN</td>\n",
       "      <td>NaN</td>\n",
       "      <td>NaN</td>\n",
       "      <td>NaN</td>\n",
       "      <td>NaN</td>\n",
       "      <td>NaN</td>\n",
       "      <td>0.0</td>\n",
       "    </tr>\n",
       "    <tr>\n",
       "      <th>3</th>\n",
       "      <td>s4</td>\n",
       "      <td>TV Show</td>\n",
       "      <td>jailbirds new orleans</td>\n",
       "      <td>NaN</td>\n",
       "      <td>NaN</td>\n",
       "      <td>NaN</td>\n",
       "      <td>2021-09-24</td>\n",
       "      <td>2021</td>\n",
       "      <td>TV-MA</td>\n",
       "      <td>1 Season</td>\n",
       "      <td>...</td>\n",
       "      <td>https://www.imdb.com/title/tt15320436/</td>\n",
       "      <td>tvSeries</td>\n",
       "      <td>6.7</td>\n",
       "      <td>NaN</td>\n",
       "      <td>2021.0</td>\n",
       "      <td>Documentary, Reality-TV</td>\n",
       "      <td>240.0</td>\n",
       "      <td>2021-09-24</td>\n",
       "      <td>NaN</td>\n",
       "      <td>1.0</td>\n",
       "    </tr>\n",
       "    <tr>\n",
       "      <th>4</th>\n",
       "      <td>s5</td>\n",
       "      <td>TV Show</td>\n",
       "      <td>kota factory</td>\n",
       "      <td>NaN</td>\n",
       "      <td>Mayur More, Jitendra Kumar, Ranjan Raj, Alam K...</td>\n",
       "      <td>India</td>\n",
       "      <td>2021-09-24</td>\n",
       "      <td>2021</td>\n",
       "      <td>TV-MA</td>\n",
       "      <td>2 Seasons</td>\n",
       "      <td>...</td>\n",
       "      <td>https://www.imdb.com/title/tt9432978/</td>\n",
       "      <td>tvSeries</td>\n",
       "      <td>9.1</td>\n",
       "      <td>45.0</td>\n",
       "      <td>2019.0</td>\n",
       "      <td>Comedy, Drama</td>\n",
       "      <td>72254.0</td>\n",
       "      <td>2019-04-16</td>\n",
       "      <td>NaN</td>\n",
       "      <td>1.0</td>\n",
       "    </tr>\n",
       "    <tr>\n",
       "      <th>...</th>\n",
       "      <td>...</td>\n",
       "      <td>...</td>\n",
       "      <td>...</td>\n",
       "      <td>...</td>\n",
       "      <td>...</td>\n",
       "      <td>...</td>\n",
       "      <td>...</td>\n",
       "      <td>...</td>\n",
       "      <td>...</td>\n",
       "      <td>...</td>\n",
       "      <td>...</td>\n",
       "      <td>...</td>\n",
       "      <td>...</td>\n",
       "      <td>...</td>\n",
       "      <td>...</td>\n",
       "      <td>...</td>\n",
       "      <td>...</td>\n",
       "      <td>...</td>\n",
       "      <td>...</td>\n",
       "      <td>...</td>\n",
       "      <td>...</td>\n",
       "    </tr>\n",
       "    <tr>\n",
       "      <th>8802</th>\n",
       "      <td>s8803</td>\n",
       "      <td>Movie</td>\n",
       "      <td>zodiac</td>\n",
       "      <td>David Fincher</td>\n",
       "      <td>Mark Ruffalo, Jake Gyllenhaal, Robert Downey J...</td>\n",
       "      <td>United States</td>\n",
       "      <td>2019-11-20</td>\n",
       "      <td>2007</td>\n",
       "      <td>R</td>\n",
       "      <td>158 min</td>\n",
       "      <td>...</td>\n",
       "      <td>NaN</td>\n",
       "      <td>NaN</td>\n",
       "      <td>NaN</td>\n",
       "      <td>NaN</td>\n",
       "      <td>NaN</td>\n",
       "      <td>NaN</td>\n",
       "      <td>NaN</td>\n",
       "      <td>NaN</td>\n",
       "      <td>NaN</td>\n",
       "      <td>0.0</td>\n",
       "    </tr>\n",
       "    <tr>\n",
       "      <th>8803</th>\n",
       "      <td>s8804</td>\n",
       "      <td>TV Show</td>\n",
       "      <td>zombie dumb</td>\n",
       "      <td>NaN</td>\n",
       "      <td>NaN</td>\n",
       "      <td>NaN</td>\n",
       "      <td>2019-07-01</td>\n",
       "      <td>2018</td>\n",
       "      <td>TV-Y7</td>\n",
       "      <td>2 Seasons</td>\n",
       "      <td>...</td>\n",
       "      <td>NaN</td>\n",
       "      <td>NaN</td>\n",
       "      <td>NaN</td>\n",
       "      <td>NaN</td>\n",
       "      <td>NaN</td>\n",
       "      <td>NaN</td>\n",
       "      <td>NaN</td>\n",
       "      <td>NaN</td>\n",
       "      <td>NaN</td>\n",
       "      <td>0.0</td>\n",
       "    </tr>\n",
       "    <tr>\n",
       "      <th>8804</th>\n",
       "      <td>s8805</td>\n",
       "      <td>Movie</td>\n",
       "      <td>zombieland</td>\n",
       "      <td>Ruben Fleischer</td>\n",
       "      <td>Jesse Eisenberg, Woody Harrelson, Emma Stone, ...</td>\n",
       "      <td>United States</td>\n",
       "      <td>2019-11-01</td>\n",
       "      <td>2009</td>\n",
       "      <td>R</td>\n",
       "      <td>88 min</td>\n",
       "      <td>...</td>\n",
       "      <td>NaN</td>\n",
       "      <td>NaN</td>\n",
       "      <td>NaN</td>\n",
       "      <td>NaN</td>\n",
       "      <td>NaN</td>\n",
       "      <td>NaN</td>\n",
       "      <td>NaN</td>\n",
       "      <td>NaN</td>\n",
       "      <td>NaN</td>\n",
       "      <td>0.0</td>\n",
       "    </tr>\n",
       "    <tr>\n",
       "      <th>8805</th>\n",
       "      <td>s8806</td>\n",
       "      <td>Movie</td>\n",
       "      <td>zoom</td>\n",
       "      <td>Peter Hewitt</td>\n",
       "      <td>Tim Allen, Courteney Cox, Chevy Chase, Kate Ma...</td>\n",
       "      <td>United States</td>\n",
       "      <td>2020-01-11</td>\n",
       "      <td>2006</td>\n",
       "      <td>PG</td>\n",
       "      <td>88 min</td>\n",
       "      <td>...</td>\n",
       "      <td>NaN</td>\n",
       "      <td>NaN</td>\n",
       "      <td>NaN</td>\n",
       "      <td>NaN</td>\n",
       "      <td>NaN</td>\n",
       "      <td>NaN</td>\n",
       "      <td>NaN</td>\n",
       "      <td>NaN</td>\n",
       "      <td>NaN</td>\n",
       "      <td>0.0</td>\n",
       "    </tr>\n",
       "    <tr>\n",
       "      <th>8806</th>\n",
       "      <td>s8807</td>\n",
       "      <td>Movie</td>\n",
       "      <td>zubaan</td>\n",
       "      <td>Mozez Singh</td>\n",
       "      <td>Vicky Kaushal, Sarah-Jane Dias, Raaghav Chanan...</td>\n",
       "      <td>India</td>\n",
       "      <td>2019-03-02</td>\n",
       "      <td>2015</td>\n",
       "      <td>TV-14</td>\n",
       "      <td>111 min</td>\n",
       "      <td>...</td>\n",
       "      <td>NaN</td>\n",
       "      <td>NaN</td>\n",
       "      <td>NaN</td>\n",
       "      <td>NaN</td>\n",
       "      <td>NaN</td>\n",
       "      <td>NaN</td>\n",
       "      <td>NaN</td>\n",
       "      <td>NaN</td>\n",
       "      <td>NaN</td>\n",
       "      <td>0.0</td>\n",
       "    </tr>\n",
       "  </tbody>\n",
       "</table>\n",
       "<p>8807 rows × 30 columns</p>\n",
       "</div>"
      ],
      "text/plain": [
       "     show_id     type                  title         director  \\\n",
       "0         s1    Movie   dick johnson is dead  Kirsten Johnson   \n",
       "1         s2  TV Show          blood & water              NaN   \n",
       "2         s3  TV Show              ganglands  Julien Leclercq   \n",
       "3         s4  TV Show  jailbirds new orleans              NaN   \n",
       "4         s5  TV Show           kota factory              NaN   \n",
       "...      ...      ...                    ...              ...   \n",
       "8802   s8803    Movie                 zodiac    David Fincher   \n",
       "8803   s8804  TV Show            zombie dumb              NaN   \n",
       "8804   s8805    Movie             zombieland  Ruben Fleischer   \n",
       "8805   s8806    Movie                   zoom     Peter Hewitt   \n",
       "8806   s8807    Movie                 zubaan      Mozez Singh   \n",
       "\n",
       "                                                   cast        country  \\\n",
       "0                                                   NaN  United States   \n",
       "1     Ama Qamata, Khosi Ngema, Gail Mabalane, Thaban...   South Africa   \n",
       "2     Sami Bouajila, Tracy Gotoas, Samuel Jouy, Nabi...            NaN   \n",
       "3                                                   NaN            NaN   \n",
       "4     Mayur More, Jitendra Kumar, Ranjan Raj, Alam K...          India   \n",
       "...                                                 ...            ...   \n",
       "8802  Mark Ruffalo, Jake Gyllenhaal, Robert Downey J...  United States   \n",
       "8803                                                NaN            NaN   \n",
       "8804  Jesse Eisenberg, Woody Harrelson, Emma Stone, ...  United States   \n",
       "8805  Tim Allen, Courteney Cox, Chevy Chase, Kate Ma...  United States   \n",
       "8806  Vicky Kaushal, Sarah-Jane Dias, Raaghav Chanan...          India   \n",
       "\n",
       "     date_added  release_year rating   duration  ...  \\\n",
       "0    2021-09-25          2020  PG-13     90 min  ...   \n",
       "1    2021-09-24          2021  TV-MA  2 Seasons  ...   \n",
       "2    2021-09-24          2021  TV-MA   1 Season  ...   \n",
       "3    2021-09-24          2021  TV-MA   1 Season  ...   \n",
       "4    2021-09-24          2021  TV-MA  2 Seasons  ...   \n",
       "...         ...           ...    ...        ...  ...   \n",
       "8802 2019-11-20          2007      R    158 min  ...   \n",
       "8803 2019-07-01          2018  TV-Y7  2 Seasons  ...   \n",
       "8804 2019-11-01          2009      R     88 min  ...   \n",
       "8805 2020-01-11          2006     PG     88 min  ...   \n",
       "8806 2019-03-02          2015  TV-14    111 min  ...   \n",
       "\n",
       "                                         URL Title Type  IMDb Rating  \\\n",
       "0     https://www.imdb.com/title/tt11394180/      movie          7.4   \n",
       "1      https://www.imdb.com/title/tt9839146/   tvSeries          6.7   \n",
       "2                                        NaN        NaN          NaN   \n",
       "3     https://www.imdb.com/title/tt15320436/   tvSeries          6.7   \n",
       "4      https://www.imdb.com/title/tt9432978/   tvSeries          9.1   \n",
       "...                                      ...        ...          ...   \n",
       "8802                                     NaN        NaN          NaN   \n",
       "8803                                     NaN        NaN          NaN   \n",
       "8804                                     NaN        NaN          NaN   \n",
       "8805                                     NaN        NaN          NaN   \n",
       "8806                                     NaN        NaN          NaN   \n",
       "\n",
       "      Runtime (mins)    Year                         Genres Num Votes  \\\n",
       "0               89.0  2020.0  Documentary, Biography, Drama    6747.0   \n",
       "1               53.0  2020.0                 Drama, Mystery    3388.0   \n",
       "2                NaN     NaN                            NaN       NaN   \n",
       "3                NaN  2021.0        Documentary, Reality-TV     240.0   \n",
       "4               45.0  2019.0                  Comedy, Drama   72254.0   \n",
       "...              ...     ...                            ...       ...   \n",
       "8802             NaN     NaN                            NaN       NaN   \n",
       "8803             NaN     NaN                            NaN       NaN   \n",
       "8804             NaN     NaN                            NaN       NaN   \n",
       "8805             NaN     NaN                            NaN       NaN   \n",
       "8806             NaN     NaN                            NaN       NaN   \n",
       "\n",
       "     Release Date        Directors Is_Original  \n",
       "0      2020-01-25  Kirsten Johnson         1.0  \n",
       "1      2020-05-20              NaN         1.0  \n",
       "2             NaN              NaN         0.0  \n",
       "3      2021-09-24              NaN         1.0  \n",
       "4      2019-04-16              NaN         1.0  \n",
       "...           ...              ...         ...  \n",
       "8802          NaN              NaN         0.0  \n",
       "8803          NaN              NaN         0.0  \n",
       "8804          NaN              NaN         0.0  \n",
       "8805          NaN              NaN         0.0  \n",
       "8806          NaN              NaN         0.0  \n",
       "\n",
       "[8807 rows x 30 columns]"
      ]
     },
     "execution_count": 5,
     "metadata": {},
     "output_type": "execute_result"
    }
   ],
   "source": [
    "overall_data"
   ]
  },
  {
   "cell_type": "markdown",
   "metadata": {},
   "source": [
    "# Summary and Analysis of Netflix Library "
   ]
  },
  {
   "cell_type": "code",
   "execution_count": 6,
   "metadata": {},
   "outputs": [],
   "source": [
    "import matplotlib.pyplot as plt"
   ]
  },
  {
   "cell_type": "code",
   "execution_count": 7,
   "metadata": {},
   "outputs": [
    {
     "data": {
      "text/html": [
       "<div>\n",
       "<style scoped>\n",
       "    .dataframe tbody tr th:only-of-type {\n",
       "        vertical-align: middle;\n",
       "    }\n",
       "\n",
       "    .dataframe tbody tr th {\n",
       "        vertical-align: top;\n",
       "    }\n",
       "\n",
       "    .dataframe thead th {\n",
       "        text-align: right;\n",
       "    }\n",
       "</style>\n",
       "<table border=\"1\" class=\"dataframe\">\n",
       "  <thead>\n",
       "    <tr style=\"text-align: right;\">\n",
       "      <th></th>\n",
       "      <th>Content</th>\n",
       "      <th>0</th>\n",
       "    </tr>\n",
       "  </thead>\n",
       "  <tbody>\n",
       "    <tr>\n",
       "      <th>0</th>\n",
       "      <td>Movie</td>\n",
       "      <td>6131</td>\n",
       "    </tr>\n",
       "    <tr>\n",
       "      <th>1</th>\n",
       "      <td>TV Show</td>\n",
       "      <td>2676</td>\n",
       "    </tr>\n",
       "  </tbody>\n",
       "</table>\n",
       "</div>"
      ],
      "text/plain": [
       "   Content     0\n",
       "0    Movie  6131\n",
       "1  TV Show  2676"
      ]
     },
     "execution_count": 7,
     "metadata": {},
     "output_type": "execute_result"
    }
   ],
   "source": [
    "# split of movie and tv shows\n",
    "a=overall_data.groupby('type').size().reset_index()\n",
    "a=a.rename(columns={'type':'Content','0':'Overall Count'})\n",
    "a"
   ]
  },
  {
   "cell_type": "code",
   "execution_count": 8,
   "metadata": {},
   "outputs": [
    {
     "data": {
      "text/html": [
       "<div>\n",
       "<style scoped>\n",
       "    .dataframe tbody tr th:only-of-type {\n",
       "        vertical-align: middle;\n",
       "    }\n",
       "\n",
       "    .dataframe tbody tr th {\n",
       "        vertical-align: top;\n",
       "    }\n",
       "\n",
       "    .dataframe thead th {\n",
       "        text-align: right;\n",
       "    }\n",
       "</style>\n",
       "<table border=\"1\" class=\"dataframe\">\n",
       "  <thead>\n",
       "    <tr style=\"text-align: right;\">\n",
       "      <th></th>\n",
       "      <th>index</th>\n",
       "      <th>Is_Original</th>\n",
       "    </tr>\n",
       "  </thead>\n",
       "  <tbody>\n",
       "    <tr>\n",
       "      <th>0</th>\n",
       "      <td>0.0</td>\n",
       "      <td>0.826275</td>\n",
       "    </tr>\n",
       "    <tr>\n",
       "      <th>1</th>\n",
       "      <td>1.0</td>\n",
       "      <td>0.173725</td>\n",
       "    </tr>\n",
       "  </tbody>\n",
       "</table>\n",
       "</div>"
      ],
      "text/plain": [
       "   index  Is_Original\n",
       "0    0.0     0.826275\n",
       "1    1.0     0.173725"
      ]
     },
     "execution_count": 8,
     "metadata": {},
     "output_type": "execute_result"
    }
   ],
   "source": [
    "# % of original content\n",
    "overall_data['Is_Original'].value_counts(normalize=True).reset_index()"
   ]
  },
  {
   "cell_type": "code",
   "execution_count": 9,
   "metadata": {},
   "outputs": [
    {
     "data": {
      "text/html": [
       "<div>\n",
       "<style scoped>\n",
       "    .dataframe tbody tr th:only-of-type {\n",
       "        vertical-align: middle;\n",
       "    }\n",
       "\n",
       "    .dataframe tbody tr th {\n",
       "        vertical-align: top;\n",
       "    }\n",
       "\n",
       "    .dataframe thead th {\n",
       "        text-align: right;\n",
       "    }\n",
       "</style>\n",
       "<table border=\"1\" class=\"dataframe\">\n",
       "  <thead>\n",
       "    <tr style=\"text-align: right;\">\n",
       "      <th>Is_Original</th>\n",
       "      <th>0.0</th>\n",
       "      <th>1.0</th>\n",
       "    </tr>\n",
       "    <tr>\n",
       "      <th>type</th>\n",
       "      <th></th>\n",
       "      <th></th>\n",
       "    </tr>\n",
       "  </thead>\n",
       "  <tbody>\n",
       "    <tr>\n",
       "      <th>Movie</th>\n",
       "      <td>5374</td>\n",
       "      <td>757</td>\n",
       "    </tr>\n",
       "    <tr>\n",
       "      <th>TV Show</th>\n",
       "      <td>1903</td>\n",
       "      <td>773</td>\n",
       "    </tr>\n",
       "  </tbody>\n",
       "</table>\n",
       "</div>"
      ],
      "text/plain": [
       "Is_Original   0.0  1.0\n",
       "type                  \n",
       "Movie        5374  757\n",
       "TV Show      1903  773"
      ]
     },
     "execution_count": 9,
     "metadata": {},
     "output_type": "execute_result"
    }
   ],
   "source": [
    "# % of original across types\n",
    "types_data=overall_data[['Is_Original','type']].value_counts().reset_index()\n",
    "types_data.pivot(index='type',columns='Is_Original',values=0)"
   ]
  },
  {
   "cell_type": "code",
   "execution_count": 43,
   "metadata": {},
   "outputs": [
    {
     "name": "stderr",
     "output_type": "stream",
     "text": [
      "<ipython-input-43-89ad328210e1>:3: SettingWithCopyWarning: \n",
      "A value is trying to be set on a copy of a slice from a DataFrame.\n",
      "Try using .loc[row_indexer,col_indexer] = value instead\n",
      "\n",
      "See the caveats in the documentation: https://pandas.pydata.org/pandas-docs/stable/user_guide/indexing.html#returning-a-view-versus-a-copy\n",
      "  shows['duration']=shows['duration'].astype('str')\n"
     ]
    },
    {
     "data": {
      "text/html": [
       "<div>\n",
       "<style scoped>\n",
       "    .dataframe tbody tr th:only-of-type {\n",
       "        vertical-align: middle;\n",
       "    }\n",
       "\n",
       "    .dataframe tbody tr th {\n",
       "        vertical-align: top;\n",
       "    }\n",
       "\n",
       "    .dataframe thead th {\n",
       "        text-align: right;\n",
       "    }\n",
       "</style>\n",
       "<table border=\"1\" class=\"dataframe\">\n",
       "  <thead>\n",
       "    <tr style=\"text-align: right;\">\n",
       "      <th></th>\n",
       "      <th>duration</th>\n",
       "    </tr>\n",
       "  </thead>\n",
       "  <tbody>\n",
       "    <tr>\n",
       "      <th>1.0</th>\n",
       "      <td>1793</td>\n",
       "    </tr>\n",
       "    <tr>\n",
       "      <th>2.0</th>\n",
       "      <td>425</td>\n",
       "    </tr>\n",
       "    <tr>\n",
       "      <th>3.0</th>\n",
       "      <td>199</td>\n",
       "    </tr>\n",
       "    <tr>\n",
       "      <th>4.0</th>\n",
       "      <td>95</td>\n",
       "    </tr>\n",
       "    <tr>\n",
       "      <th>5.0</th>\n",
       "      <td>65</td>\n",
       "    </tr>\n",
       "    <tr>\n",
       "      <th>6.0</th>\n",
       "      <td>33</td>\n",
       "    </tr>\n",
       "    <tr>\n",
       "      <th>7.0</th>\n",
       "      <td>23</td>\n",
       "    </tr>\n",
       "    <tr>\n",
       "      <th>8.0</th>\n",
       "      <td>17</td>\n",
       "    </tr>\n",
       "    <tr>\n",
       "      <th>9.0</th>\n",
       "      <td>9</td>\n",
       "    </tr>\n",
       "    <tr>\n",
       "      <th>10.0</th>\n",
       "      <td>7</td>\n",
       "    </tr>\n",
       "    <tr>\n",
       "      <th>13.0</th>\n",
       "      <td>3</td>\n",
       "    </tr>\n",
       "    <tr>\n",
       "      <th>11.0</th>\n",
       "      <td>2</td>\n",
       "    </tr>\n",
       "    <tr>\n",
       "      <th>12.0</th>\n",
       "      <td>2</td>\n",
       "    </tr>\n",
       "    <tr>\n",
       "      <th>15.0</th>\n",
       "      <td>2</td>\n",
       "    </tr>\n",
       "    <tr>\n",
       "      <th>17.0</th>\n",
       "      <td>1</td>\n",
       "    </tr>\n",
       "  </tbody>\n",
       "</table>\n",
       "</div>"
      ],
      "text/plain": [
       "      duration\n",
       "1.0       1793\n",
       "2.0        425\n",
       "3.0        199\n",
       "4.0         95\n",
       "5.0         65\n",
       "6.0         33\n",
       "7.0         23\n",
       "8.0         17\n",
       "9.0          9\n",
       "10.0         7\n",
       "13.0         3\n",
       "11.0         2\n",
       "12.0         2\n",
       "15.0         2\n",
       "17.0         1"
      ]
     },
     "execution_count": 43,
     "metadata": {},
     "output_type": "execute_result"
    }
   ],
   "source": [
    "# Duration of TV shows\n",
    "shows=overall_data[overall_data['type']=='TV Show']\n",
    "shows['duration']=shows['duration'].astype('str')\n",
    "duration_show=[]\n",
    "for item in shows['duration']:\n",
    "    a=item.replace('Seasons','')\n",
    "    a=a.replace('Season','')\n",
    "    duration_show.append(a)\n",
    "temp=pd.DataFrame(duration_show,columns=['duration'])\n",
    "temp['duration']=temp['duration'].astype('float')\n",
    "pd.DataFrame(temp['duration'].value_counts())"
   ]
  },
  {
   "cell_type": "code",
   "execution_count": 45,
   "metadata": {},
   "outputs": [
    {
     "name": "stderr",
     "output_type": "stream",
     "text": [
      "<ipython-input-45-9ef685be5292>:3: SettingWithCopyWarning: \n",
      "A value is trying to be set on a copy of a slice from a DataFrame.\n",
      "Try using .loc[row_indexer,col_indexer] = value instead\n",
      "\n",
      "See the caveats in the documentation: https://pandas.pydata.org/pandas-docs/stable/user_guide/indexing.html#returning-a-view-versus-a-copy\n",
      "  shows_original['duration']=shows_original['duration'].astype('str')\n"
     ]
    },
    {
     "data": {
      "text/html": [
       "<div>\n",
       "<style scoped>\n",
       "    .dataframe tbody tr th:only-of-type {\n",
       "        vertical-align: middle;\n",
       "    }\n",
       "\n",
       "    .dataframe tbody tr th {\n",
       "        vertical-align: top;\n",
       "    }\n",
       "\n",
       "    .dataframe thead th {\n",
       "        text-align: right;\n",
       "    }\n",
       "</style>\n",
       "<table border=\"1\" class=\"dataframe\">\n",
       "  <thead>\n",
       "    <tr style=\"text-align: right;\">\n",
       "      <th></th>\n",
       "      <th>duration</th>\n",
       "    </tr>\n",
       "  </thead>\n",
       "  <tbody>\n",
       "    <tr>\n",
       "      <th>1.0</th>\n",
       "      <td>1299</td>\n",
       "    </tr>\n",
       "    <tr>\n",
       "      <th>2.0</th>\n",
       "      <td>283</td>\n",
       "    </tr>\n",
       "    <tr>\n",
       "      <th>3.0</th>\n",
       "      <td>127</td>\n",
       "    </tr>\n",
       "    <tr>\n",
       "      <th>4.0</th>\n",
       "      <td>62</td>\n",
       "    </tr>\n",
       "    <tr>\n",
       "      <th>5.0</th>\n",
       "      <td>52</td>\n",
       "    </tr>\n",
       "    <tr>\n",
       "      <th>6.0</th>\n",
       "      <td>22</td>\n",
       "    </tr>\n",
       "    <tr>\n",
       "      <th>7.0</th>\n",
       "      <td>20</td>\n",
       "    </tr>\n",
       "    <tr>\n",
       "      <th>8.0</th>\n",
       "      <td>14</td>\n",
       "    </tr>\n",
       "    <tr>\n",
       "      <th>9.0</th>\n",
       "      <td>9</td>\n",
       "    </tr>\n",
       "    <tr>\n",
       "      <th>10.0</th>\n",
       "      <td>7</td>\n",
       "    </tr>\n",
       "    <tr>\n",
       "      <th>11.0</th>\n",
       "      <td>2</td>\n",
       "    </tr>\n",
       "    <tr>\n",
       "      <th>15.0</th>\n",
       "      <td>2</td>\n",
       "    </tr>\n",
       "    <tr>\n",
       "      <th>13.0</th>\n",
       "      <td>2</td>\n",
       "    </tr>\n",
       "    <tr>\n",
       "      <th>12.0</th>\n",
       "      <td>1</td>\n",
       "    </tr>\n",
       "    <tr>\n",
       "      <th>17.0</th>\n",
       "      <td>1</td>\n",
       "    </tr>\n",
       "  </tbody>\n",
       "</table>\n",
       "</div>"
      ],
      "text/plain": [
       "      duration\n",
       "1.0       1299\n",
       "2.0        283\n",
       "3.0        127\n",
       "4.0         62\n",
       "5.0         52\n",
       "6.0         22\n",
       "7.0         20\n",
       "8.0         14\n",
       "9.0          9\n",
       "10.0         7\n",
       "11.0         2\n",
       "15.0         2\n",
       "13.0         2\n",
       "12.0         1\n",
       "17.0         1"
      ]
     },
     "execution_count": 45,
     "metadata": {},
     "output_type": "execute_result"
    }
   ],
   "source": [
    "# duration of original tv shows\n",
    "shows_original=overall_data[(overall_data['type']=='TV Show') & (overall_data['Is_Original']==0)]\n",
    "shows_original['duration']=shows_original['duration'].astype('str')\n",
    "duration_show_orig=[]\n",
    "for item in shows_original['duration']:\n",
    "    a=item.replace('Seasons','')\n",
    "    a=a.replace('Season','')\n",
    "    b=item\n",
    "    duration_show_orig.append(a)\n",
    "temp=pd.DataFrame(duration_show_orig,columns=['duration'])\n",
    "temp['duration']=temp['duration'].astype('float')\n",
    "pd.DataFrame(temp['duration'].value_counts())"
   ]
  },
  {
   "cell_type": "markdown",
   "metadata": {},
   "source": [
    "## Data for T-test to identify rating difference for tv shows with 1 season vs more than 1"
   ]
  },
  {
   "cell_type": "code",
   "execution_count": 12,
   "metadata": {},
   "outputs": [],
   "source": [
    "# reading tv shows data to get rotten tomatoes score\n",
    "tv_shows_netflix=pd.read_csv(r'D:\\Fall\\Web data analytics\\Project ideas\\Netflix datasets\\Original Datasets\\tv_shows.csv')\n",
    "tv_shows_netflix['Title']=tv_shows_netflix['Title'].apply(lambda x:x.lower())\n",
    "tv_shows_netflix_seasons=pd.merge(tv_shows_netflix,overall_data,how='left',left_on='Title',right_on='title')"
   ]
  },
  {
   "cell_type": "code",
   "execution_count": 13,
   "metadata": {},
   "outputs": [],
   "source": [
    "tv_shows_netflix_seasons=tv_shows_netflix_seasons[['Title_x','Rotten Tomatoes','duration']]\n",
    "rotten_tomatoes_proper=[]\n",
    "for item in tv_shows_netflix_seasons['Rotten Tomatoes']:\n",
    "    new_lis=item.split('/')\n",
    "    rotten_tomatoes_proper.append(float(new_lis[0]))\n",
    "tv_shows_netflix_seasons['Rotten_Tomatoes_Proper']=rotten_tomatoes_proper\n",
    "#tv_flows_netflix_seasons=tv_shows_netflix_seasons[tv_shows_netflix_seasons['duration'].notnull()]"
   ]
  },
  {
   "cell_type": "code",
   "execution_count": 14,
   "metadata": {},
   "outputs": [],
   "source": [
    "tv_flows_netflix_seasons_proper=tv_shows_netflix_seasons[tv_shows_netflix_seasons['duration'].isna()==False]"
   ]
  },
  {
   "cell_type": "code",
   "execution_count": 15,
   "metadata": {},
   "outputs": [
    {
     "name": "stderr",
     "output_type": "stream",
     "text": [
      "<ipython-input-15-1fdd6987f0aa>:7: SettingWithCopyWarning: \n",
      "A value is trying to be set on a copy of a slice from a DataFrame.\n",
      "Try using .loc[row_indexer,col_indexer] = value instead\n",
      "\n",
      "See the caveats in the documentation: https://pandas.pydata.org/pandas-docs/stable/user_guide/indexing.html#returning-a-view-versus-a-copy\n",
      "  tv_flows_netflix_seasons_proper['One season']=one_season_flag\n"
     ]
    }
   ],
   "source": [
    "one_season_flag=[]\n",
    "for item in tv_flows_netflix_seasons_proper['duration']:\n",
    "    if (('1 Season' in item) | ('min' in item)):\n",
    "        one_season_flag.append('1')\n",
    "    else:\n",
    "        one_season_flag.append('0')\n",
    "tv_flows_netflix_seasons_proper['One season']=one_season_flag"
   ]
  },
  {
   "cell_type": "code",
   "execution_count": 16,
   "metadata": {},
   "outputs": [],
   "source": [
    "tv_flows_netflix_seasons_proper.to_csv('seasons_distribution.csv')"
   ]
  },
  {
   "cell_type": "markdown",
   "metadata": {},
   "source": [
    "# Data for Competitor Comparison"
   ]
  },
  {
   "cell_type": "code",
   "execution_count": 17,
   "metadata": {},
   "outputs": [],
   "source": [
    "# reading dataset that contains tv shows distribution among competitors\n",
    "tv_shows_differentplat=pd.read_csv(r'D:\\Fall\\Web data analytics\\Project ideas\\Netflix datasets\\Original Datasets\\tv_shows.csv')\n",
    "rotten_tomatoes_proper=[]\n",
    "for item in tv_shows_differentplat['Rotten Tomatoes']:\n",
    "    new_lis=item.split('/')\n",
    "    rotten_tomatoes_proper.append(float(new_lis[0]))\n",
    "tv_shows_differentplat['Rotten_Tomatoes_Proper']=rotten_tomatoes_proper\n",
    "\n",
    "# tv shows\n",
    "tv_shows_differentplat=tv_shows_differentplat.drop(columns=['Unnamed: 0', 'ID'])\n",
    "tv_shows_differentplat['num_platforms']=tv_shows_differentplat['Hulu']+tv_shows_differentplat['Prime Video']+tv_shows_differentplat['Disney+']\n",
    "\n",
    "tv_shows_differentplat['Just Netflix']=np.where((tv_shows_differentplat['Netflix']==1) & (tv_shows_differentplat['num_platforms']==0),1,0)\n",
    "tv_shows_exclusive=tv_shows_differentplat[(tv_shows_differentplat['Netflix']==1) & (tv_shows_differentplat['num_platforms']==0)]\n",
    "tv_shows_otherplatforms=tv_shows_differentplat[(tv_shows_differentplat['Netflix']==0) & (tv_shows_differentplat['num_platforms']>0)]"
   ]
  },
  {
   "cell_type": "code",
   "execution_count": 18,
   "metadata": {
    "scrolled": true
   },
   "outputs": [
    {
     "data": {
      "text/plain": [
       "0.106544901065449"
      ]
     },
     "execution_count": 18,
     "metadata": {},
     "output_type": "execute_result"
    }
   ],
   "source": [
    "netflix_shows=tv_shows_differentplat[tv_shows_differentplat['Netflix']==1]\n",
    "netflix_commonshows=netflix_shows[netflix_shows['num_platforms']>0]\n",
    "len(netflix_commonshows)/len(netflix_shows)"
   ]
  },
  {
   "cell_type": "code",
   "execution_count": 19,
   "metadata": {},
   "outputs": [],
   "source": [
    "tv_shows_differentplat.to_csv('Competitor_Data.csv')"
   ]
  },
  {
   "cell_type": "markdown",
   "metadata": {},
   "source": [
    "## Rotten tomatoes rating for all movies and tv shows"
   ]
  },
  {
   "cell_type": "code",
   "execution_count": 20,
   "metadata": {},
   "outputs": [],
   "source": [
    "ratings=pd.read_csv('final_netflix.csv')\n",
    "ratings['title']=ratings['title'].apply(lambda x:x.lower())"
   ]
  },
  {
   "cell_type": "code",
   "execution_count": 21,
   "metadata": {},
   "outputs": [],
   "source": [
    "ratings['show_num']=ratings['Unnamed: 0']+1\n",
    "ratings['show_id']='s'+ratings['show_num'].astype('str')"
   ]
  },
  {
   "cell_type": "code",
   "execution_count": 22,
   "metadata": {},
   "outputs": [],
   "source": [
    "ratings_quarterly=pd.merge(overall_data,ratings,on='show_id',how='left')"
   ]
  },
  {
   "cell_type": "code",
   "execution_count": 23,
   "metadata": {},
   "outputs": [],
   "source": [
    "# removing ratings which are not present\n",
    "dist_audience=ratings_quarterly[ratings_quarterly['audience_score']!=-2]\n",
    "dist_critic=ratings_quarterly[ratings_quarterly['tomato_score']!=-2]"
   ]
  },
  {
   "cell_type": "code",
   "execution_count": 24,
   "metadata": {},
   "outputs": [
    {
     "name": "stdout",
     "output_type": "stream",
     "text": [
      "count    5934.000000\n",
      "mean       36.483485\n",
      "std        39.583820\n",
      "min        -1.000000\n",
      "25%        -1.000000\n",
      "50%        22.000000\n",
      "75%        79.000000\n",
      "max       100.000000\n",
      "Name: tomato_score, dtype: float64\n"
     ]
    },
    {
     "data": {
      "text/plain": [
       "<AxesSubplot:>"
      ]
     },
     "execution_count": 24,
     "metadata": {},
     "output_type": "execute_result"
    },
    {
     "data": {
      "image/png": "[encoded data removed]",
      "text/plain": [
       "<Figure size 432x288 with 1 Axes>"
      ]
     },
     "metadata": {
      "needs_background": "light"
     },
     "output_type": "display_data"
    }
   ],
   "source": [
    "print(dist_critic['tomato_score'].describe())\n",
    "dist_critic['tomato_score'].hist()"
   ]
  },
  {
   "cell_type": "code",
   "execution_count": 25,
   "metadata": {},
   "outputs": [
    {
     "name": "stdout",
     "output_type": "stream",
     "text": [
      "count    5934.000000\n",
      "mean       50.921638\n",
      "std        32.085972\n",
      "min        -1.000000\n",
      "25%        27.000000\n",
      "50%        58.000000\n",
      "75%        78.000000\n",
      "max       100.000000\n",
      "Name: audience_score, dtype: float64\n"
     ]
    },
    {
     "data": {
      "text/plain": [
       "<AxesSubplot:>"
      ]
     },
     "execution_count": 25,
     "metadata": {},
     "output_type": "execute_result"
    },
    {
     "data": {
      "image/png": "[encoded data removed]",
      "text/plain": [
       "<Figure size 432x288 with 1 Axes>"
      ]
     },
     "metadata": {
      "needs_background": "light"
     },
     "output_type": "display_data"
    }
   ],
   "source": [
    "print(dist_audience['audience_score'].describe())\n",
    "dist_audience['audience_score'].hist()"
   ]
  },
  {
   "cell_type": "markdown",
   "metadata": {},
   "source": [
    "# Building dataset needed for regression"
   ]
  },
  {
   "cell_type": "markdown",
   "metadata": {},
   "source": [
    "## Obtaining Tomato Rating Across Years and Quarters"
   ]
  },
  {
   "cell_type": "code",
   "execution_count": 26,
   "metadata": {},
   "outputs": [
    {
     "name": "stderr",
     "output_type": "stream",
     "text": [
      "<ipython-input-26-6cafa0bfcd1e>:6: FutureWarning: Indexing with multiple keys (implicitly converted to a tuple of keys) will be deprecated, use a list instead.\n",
      "  quarterly_rating_summary_tv=ratings_quarterly_tv.groupby(['date_added_year','Quarter'])['audience_score','tomato_score'].median().reset_index()\n"
     ]
    }
   ],
   "source": [
    "# filtering for tv shows\n",
    "ratings_quarterly_tv=ratings_quarterly[(ratings_quarterly['type_x']=='TV Show')] \n",
    "ratings_quarterly_tv=ratings_quarterly_tv[(ratings_quarterly_tv['audience_score']!=-1) & (ratings_quarterly_tv['audience_score']!=-2)]\n",
    "ratings_quarterly_tv=ratings_quarterly_tv[(ratings_quarterly_tv['tomato_score']!=-1)]          \n",
    "\n",
    "quarterly_rating_summary_tv=ratings_quarterly_tv.groupby(['date_added_year','Quarter'])['audience_score','tomato_score'].median().reset_index()"
   ]
  },
  {
   "cell_type": "code",
   "execution_count": 27,
   "metadata": {},
   "outputs": [
    {
     "name": "stderr",
     "output_type": "stream",
     "text": [
      "<ipython-input-27-fa870ccf7341>:5: FutureWarning: Indexing with multiple keys (implicitly converted to a tuple of keys) will be deprecated, use a list instead.\n",
      "  quarterly_rating_summary_movies=ratings_quarterly_movies.groupby(['date_added_year','Quarter'])['audience_score','tomato_score'].median().reset_index()\n"
     ]
    }
   ],
   "source": [
    "# filtering for movies\n",
    "ratings_quarterly_movies=ratings_quarterly[(ratings_quarterly['type_x']=='Movie')] \n",
    "ratings_quarterly_movies=ratings_quarterly_movies[(ratings_quarterly_movies['tomato_score']!=-1) & (ratings_quarterly_movies['tomato_score']!=-2)]\n",
    "ratings_quarterly_movies=ratings_quarterly_movies[(ratings_quarterly_movies['audience_score']!=-1) & (ratings_quarterly_movies['audience_score']!=2)]                                       \n",
    "quarterly_rating_summary_movies=ratings_quarterly_movies.groupby(['date_added_year','Quarter'])['audience_score','tomato_score'].median().reset_index()"
   ]
  },
  {
   "cell_type": "code",
   "execution_count": 28,
   "metadata": {},
   "outputs": [],
   "source": [
    "# Changing Datatypes for tv shows\n",
    "quarterly_rating_summary_tv['Quarter']=quarterly_rating_summary_tv['Quarter'].astype('int')\n",
    "quarterly_rating_summary_tv['date_added_year']=quarterly_rating_summary_tv['date_added_year'].astype('int')\n",
    "quarterly_rating_summary_tv['Quarter']=\"Q\"+quarterly_rating_summary_tv['Quarter'].astype('str')\n",
    "quarterly_rating_summary_tv=quarterly_rating_summary_tv.rename(columns={'tomato_score':'tomato_score_tv','audience_score':'audience_score_tv'})\n",
    "quarterly_rating_summary_tv=quarterly_rating_summary_tv.rename(columns={'date_added_year':'Year'})"
   ]
  },
  {
   "cell_type": "code",
   "execution_count": 29,
   "metadata": {},
   "outputs": [],
   "source": [
    "# Changing Datatypes for movies\n",
    "quarterly_rating_summary_movies['Quarter']=quarterly_rating_summary_movies['Quarter'].astype('int')\n",
    "quarterly_rating_summary_movies['date_added_year']=quarterly_rating_summary_movies['date_added_year'].astype('int')\n",
    "quarterly_rating_summary_movies['Quarter']=\"Q\"+quarterly_rating_summary_movies['Quarter'].astype('str')\n",
    "quarterly_rating_summary_movies=quarterly_rating_summary_movies.rename(columns={'tomato_score':'tomato_score_movies','audience_score':'audience_score_movies'})\n",
    "quarterly_rating_summary_movies=quarterly_rating_summary_movies.rename(columns={'date_added_year':'Year'})"
   ]
  },
  {
   "cell_type": "markdown",
   "metadata": {},
   "source": [
    "## Building subscriber, no of movies, tv shows data at quarter, year level"
   ]
  },
  {
   "cell_type": "code",
   "execution_count": 30,
   "metadata": {},
   "outputs": [],
   "source": [
    "#obtaining the subscriber data\n",
    "subscriber_data=pd.read_excel(r'D:\\Fall\\Web data analytics\\Project ideas\\Netflix datasets\\Original Datasets\\Subscriber Data.xlsx')"
   ]
  },
  {
   "cell_type": "code",
   "execution_count": 31,
   "metadata": {},
   "outputs": [
    {
     "name": "stderr",
     "output_type": "stream",
     "text": [
      "<ipython-input-31-15475cb1ad80>:2: SettingWithCopyWarning: \n",
      "A value is trying to be set on a copy of a slice from a DataFrame.\n",
      "Try using .loc[row_indexer,col_indexer] = value instead\n",
      "\n",
      "See the caveats in the documentation: https://pandas.pydata.org/pandas-docs/stable/user_guide/indexing.html#returning-a-view-versus-a-copy\n",
      "  dataset_timelevel['Quarter_Year']=\"Q\"+dataset_timelevel['Quarter'].astype('str')+'-'+dataset_timelevel['date_added_year'].astype('str')\n"
     ]
    }
   ],
   "source": [
    "dataset_timelevel=overall_data[['Quarter','date_added_year','show_id','type','Is_Original']]\n",
    "dataset_timelevel['Quarter_Year']=\"Q\"+dataset_timelevel['Quarter'].astype('str')+'-'+dataset_timelevel['date_added_year'].astype('str')\n",
    "timelevel_final=dataset_timelevel.groupby(['Quarter','date_added_year','type','Is_Original'])['show_id'].size().reset_index()\n",
    "temp_data=timelevel_final.pivot(index=['date_added_year','Quarter'],columns=['type','Is_Original'],values='show_id').reset_index().fillna(0)\n",
    "temp_data.columns = ['date_added_year','Quarter','Movie Not Original','TVShow Not Original','Movie Original','TV Original']\n",
    "temp_data['Quarter']=temp_data['Quarter'].astype('int')\n",
    "temp_data['date_added_year']=temp_data['date_added_year'].astype('int')\n",
    "temp_data['Quarter']=\"Q\"+temp_data['Quarter'].astype('str')\n",
    "temp_data=temp_data.rename(columns={'date_added_year':'Year'})\n",
    "final_dataset=pd.merge(subscriber_data,temp_data,left_on=['Quarter ','Year'],right_on=['Quarter','Year'],how='left').fillna(0)\n",
    "final_dataset=final_dataset[['Quarter ','Year','Date','Number of Subscribers','Movie Not Original','TVShow Not Original','Movie Original','TV Original']]\n",
    "final_dataset['Overall_Movies']=final_dataset['Movie Not Original']+final_dataset['Movie Original']\n",
    "final_dataset['Overall TV Shows']=final_dataset['TVShow Not Original']+final_dataset['TV Original']"
   ]
  },
  {
   "cell_type": "code",
   "execution_count": 32,
   "metadata": {},
   "outputs": [],
   "source": [
    "final_dataset_ratings=pd.merge(final_dataset,quarterly_rating_summary_tv,left_on=['Quarter ','Year'],right_on=['Quarter','Year'],how='left').fillna(0)\n",
    "final_dataset_ratings=final_dataset_ratings[['Quarter ','Year','Date','Number of Subscribers','Movie Not Original','TVShow Not Original','Movie Original','TV Original','Overall_Movies','Overall TV Shows','audience_score_tv','tomato_score_tv']]\n",
    "final_dataset_ratings=pd.merge(final_dataset_ratings,quarterly_rating_summary_movies,left_on=['Quarter ','Year'],right_on=['Quarter','Year'],how='left').fillna(0)\n",
    "final_dataset_ratings=final_dataset_ratings[['Quarter ','Year','Date','Number of Subscribers','Movie Not Original','TVShow Not Original','Movie Original','TV Original','Overall_Movies','Overall TV Shows','audience_score_tv','tomato_score_tv','audience_score_movies','tomato_score_movies']]"
   ]
  },
  {
   "cell_type": "markdown",
   "metadata": {},
   "source": [
    "## Adding customer sentiment information"
   ]
  },
  {
   "cell_type": "code",
   "execution_count": 33,
   "metadata": {},
   "outputs": [],
   "source": [
    "customer_sent=pd.read_excel('Final Sent.xlsx',sheet_name='Sentiment vs Titles')"
   ]
  },
  {
   "cell_type": "code",
   "execution_count": null,
   "metadata": {},
   "outputs": [],
   "source": [
    "customer_sent.info()"
   ]
  },
  {
   "cell_type": "code",
   "execution_count": 34,
   "metadata": {},
   "outputs": [],
   "source": [
    "customer_sent['Content']=customer_sent['Content'].astype('str')\n",
    "customer_sent['Content']=customer_sent['Content'].apply(lambda x:x.lower())\n",
    "customer_sent=customer_sent.drop_duplicates(subset='Content',keep=False)\n",
    "cust_merge_data=pd.merge(overall_data,customer_sent,left_on='title',right_on='Content',how='left')\n",
    "cust_merge_data=cust_merge_data[cust_merge_data['Average of Compounded Review Score'].isna()==False]\n",
    "cust_merge_data=cust_merge_data.groupby(['date_added_year','Quarter'])['Average of Compounded Review Score'].median().reset_index()"
   ]
  },
  {
   "cell_type": "code",
   "execution_count": 35,
   "metadata": {},
   "outputs": [],
   "source": [
    "# Changing Datatypes for customer sentiment\n",
    "cust_merge_data['Quarter']=cust_merge_data['Quarter'].astype('int')\n",
    "cust_merge_data['date_added_year']=cust_merge_data['date_added_year'].astype('int')\n",
    "cust_merge_data['Quarter']=\"Q\"+cust_merge_data['Quarter'].astype('str')\n",
    "cust_merge_data=cust_merge_data.rename(columns={'date_added_year':'Year'})"
   ]
  },
  {
   "cell_type": "code",
   "execution_count": 36,
   "metadata": {},
   "outputs": [],
   "source": [
    "final_dataset_final=pd.merge(final_dataset_ratings,cust_merge_data,left_on=['Quarter ','Year'],right_on=['Quarter','Year'],how='left').fillna(0)"
   ]
  },
  {
   "cell_type": "code",
   "execution_count": 37,
   "metadata": {},
   "outputs": [],
   "source": [
    "final_dataset_final=final_dataset_final[['Quarter ','Year','Date','Number of Subscribers','Movie Not Original','TVShow Not Original','Movie Original','TV Original','Overall_Movies','Overall TV Shows','audience_score_tv','tomato_score_tv','audience_score_movies','tomato_score_movies','Average of Compounded Review Score']]"
   ]
  },
  {
   "cell_type": "code",
   "execution_count": null,
   "metadata": {},
   "outputs": [],
   "source": [
    "final_dataset_final"
   ]
  },
  {
   "cell_type": "code",
   "execution_count": 38,
   "metadata": {},
   "outputs": [],
   "source": [
    "final_dataset_final.to_csv('regression_dataset.csv')"
   ]
  }
 ],
 "metadata": {
  "kernelspec": {
   "display_name": "Python 3",
   "language": "python",
   "name": "python3"
  },
  "language_info": {
   "codemirror_mode": {
    "name": "ipython",
    "version": 3
   },
   "file_extension": ".py",
   "mimetype": "text/x-python",
   "name": "python",
   "nbconvert_exporter": "python",
   "pygments_lexer": "ipython3",
   "version": "3.8.5"
  }
 },
 "nbformat": 4,
 "nbformat_minor": 4
}
